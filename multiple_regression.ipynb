{
 "cells": [
  {
   "cell_type": "code",
   "execution_count": 1,
   "id": "e20c9ce4-b388-45f3-a3f9-ae64c68ad72d",
   "metadata": {
    "tags": []
   },
   "outputs": [
    {
     "name": "stdout",
     "output_type": "stream",
     "text": [
      "[107.2087328]\n",
      "[0.00755095 0.00780526]\n"
     ]
    },
    {
     "name": "stderr",
     "output_type": "stream",
     "text": [
      "/opt/conda/lib/python3.10/site-packages/sklearn/base.py:439: UserWarning: X does not have valid feature names, but LinearRegression was fitted with feature names\n",
      "  warnings.warn(\n"
     ]
    }
   ],
   "source": [
    "import pandas as pd\n",
    "from sklearn import linear_model\n",
    "\n",
    "df = pd.read_csv(\"cars.csv\")\n",
    "\n",
    "X = df[['Weight', 'Volume']]\n",
    "X.columns = ['Weight', 'Volume']  # set the column names to match the feature names used in the model fit\n",
    "y = df['CO2']\n",
    "\n",
    "regr = linear_model.LinearRegression()\n",
    "regr.fit(X, y)\n",
    "\n",
    "#predict the CO2 emission of a car where the weight is 2300kg, and the volume is 1300cm3:\n",
    "predictedCO2 = regr.predict([[2300, 1300]])\n",
    "\n",
    "print(predictedCO2)\n",
    "\n",
    "print(regr.coef_)\n"
   ]
  },
  {
   "attachments": {},
   "cell_type": "markdown",
   "id": "426cfa71",
   "metadata": {},
   "source": [
    "These values tell us that if the weight increase by 1kg, the CO2 emission increases by 0.00755095g.\n",
    "And if the engine size (Volume) increases by 1 cm3, the CO2 emission increases by 0.00780526 g."
   ]
  },
  {
   "cell_type": "code",
   "execution_count": 2,
   "id": "c4ef1d7c-7a12-4637-bbcd-2ba7b6a29561",
   "metadata": {},
   "outputs": [
    {
     "name": "stdout",
     "output_type": "stream",
     "text": [
      "[114.75968007]\n"
     ]
    },
    {
     "name": "stderr",
     "output_type": "stream",
     "text": [
      "/opt/conda/lib/python3.10/site-packages/sklearn/base.py:439: UserWarning: X does not have valid feature names, but LinearRegression was fitted with feature names\n",
      "  warnings.warn(\n"
     ]
    }
   ],
   "source": [
    "#predict the CO2 emission of a car where the weight is 3300kg, and the volume is 1300cm3:\n",
    "predictedCO2 = regr.predict([[3300, 1300]])\n",
    "\n",
    "print(predictedCO2)\n",
    "\n",
    "# print(regr.coef_)"
   ]
  },
  {
   "attachments": {},
   "cell_type": "markdown",
   "id": "eae05497",
   "metadata": {},
   "source": [
    "We have predicted that a car with 1.3 liter engine, and a weight of 3300 kg, \n",
    "will release approximately 115 grams of CO2 for every kilometer it drives.\n",
    "\n",
    "Validate coefficient\n",
    "107.2087328 + (1000 * 0.00755095) = 114.75968"
   ]
  }
 ],
 "metadata": {
  "kernelspec": {
   "display_name": "Python 3 (ipykernel)",
   "language": "python",
   "name": "python3"
  },
  "language_info": {
   "codemirror_mode": {
    "name": "ipython",
    "version": 3
   },
   "file_extension": ".py",
   "mimetype": "text/x-python",
   "name": "python",
   "nbconvert_exporter": "python",
   "pygments_lexer": "ipython3",
   "version": "3.10.8"
  }
 },
 "nbformat": 4,
 "nbformat_minor": 5
}
